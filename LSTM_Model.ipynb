{
 "cells": [
  {
   "cell_type": "code",
   "execution_count": 1,
   "metadata": {},
   "outputs": [],
   "source": [
    "import pandas as pd\n",
    "import numpy as np\n",
    "import matplotlib.pyplot as plt\n",
    "import seaborn as sns\n",
    "import tensorflow as tf\n",
    "from scipy import stats\n",
    "from sklearn import metrics\n",
    "\n",
    "%matplotlib inline\n",
    "\n",
    "import warnings\n",
    "warnings.filterwarnings('ignore')"
   ]
  },
  {
   "cell_type": "code",
   "execution_count": 2,
   "metadata": {},
   "outputs": [
    {
     "data": {
      "text/html": [
       "<div>\n",
       "<style scoped>\n",
       "    .dataframe tbody tr th:only-of-type {\n",
       "        vertical-align: middle;\n",
       "    }\n",
       "\n",
       "    .dataframe tbody tr th {\n",
       "        vertical-align: top;\n",
       "    }\n",
       "\n",
       "    .dataframe thead th {\n",
       "        text-align: right;\n",
       "    }\n",
       "</style>\n",
       "<table border=\"1\" class=\"dataframe\">\n",
       "  <thead>\n",
       "    <tr style=\"text-align: right;\">\n",
       "      <th></th>\n",
       "      <th>Trial</th>\n",
       "      <th>UserID</th>\n",
       "      <th>Orientation</th>\n",
       "      <th>Activity</th>\n",
       "      <th>Speed</th>\n",
       "      <th>TimeStamp</th>\n",
       "      <th>Chest_Accel_X</th>\n",
       "      <th>Chest_Accel_Y</th>\n",
       "      <th>Chest_Accel_Z</th>\n",
       "    </tr>\n",
       "  </thead>\n",
       "  <tbody>\n",
       "    <tr>\n",
       "      <th>0</th>\n",
       "      <td>NaN</td>\n",
       "      <td>0</td>\n",
       "      <td>Folded Out</td>\n",
       "      <td>Sitting</td>\n",
       "      <td>NaN</td>\n",
       "      <td>1582128836418</td>\n",
       "      <td>2.256195</td>\n",
       "      <td>-1.522797</td>\n",
       "      <td>10.403519</td>\n",
       "    </tr>\n",
       "    <tr>\n",
       "      <th>1</th>\n",
       "      <td>NaN</td>\n",
       "      <td>0</td>\n",
       "      <td>Folded Out</td>\n",
       "      <td>Sitting</td>\n",
       "      <td>NaN</td>\n",
       "      <td>1582128836589</td>\n",
       "      <td>3.220734</td>\n",
       "      <td>-2.252838</td>\n",
       "      <td>10.422897</td>\n",
       "    </tr>\n",
       "    <tr>\n",
       "      <th>2</th>\n",
       "      <td>NaN</td>\n",
       "      <td>0</td>\n",
       "      <td>Folded Out</td>\n",
       "      <td>Sitting</td>\n",
       "      <td>NaN</td>\n",
       "      <td>1582128836780</td>\n",
       "      <td>-0.090683</td>\n",
       "      <td>-0.249100</td>\n",
       "      <td>12.276138</td>\n",
       "    </tr>\n",
       "    <tr>\n",
       "      <th>3</th>\n",
       "      <td>NaN</td>\n",
       "      <td>0</td>\n",
       "      <td>Folded Out</td>\n",
       "      <td>Sitting</td>\n",
       "      <td>NaN</td>\n",
       "      <td>1582128836966</td>\n",
       "      <td>-1.416305</td>\n",
       "      <td>-0.237137</td>\n",
       "      <td>9.461456</td>\n",
       "    </tr>\n",
       "    <tr>\n",
       "      <th>4</th>\n",
       "      <td>NaN</td>\n",
       "      <td>0</td>\n",
       "      <td>Folded Out</td>\n",
       "      <td>Sitting</td>\n",
       "      <td>NaN</td>\n",
       "      <td>1582128837155</td>\n",
       "      <td>-0.947800</td>\n",
       "      <td>0.250046</td>\n",
       "      <td>9.660065</td>\n",
       "    </tr>\n",
       "  </tbody>\n",
       "</table>\n",
       "</div>"
      ],
      "text/plain": [
       "   Trial UserID Orientation Activity Speed      TimeStamp  Chest_Accel_X  \\\n",
       "0    NaN      0  Folded Out  Sitting   NaN  1582128836418       2.256195   \n",
       "1    NaN      0  Folded Out  Sitting   NaN  1582128836589       3.220734   \n",
       "2    NaN      0  Folded Out  Sitting   NaN  1582128836780      -0.090683   \n",
       "3    NaN      0  Folded Out  Sitting   NaN  1582128836966      -1.416305   \n",
       "4    NaN      0  Folded Out  Sitting   NaN  1582128837155      -0.947800   \n",
       "\n",
       "   Chest_Accel_Y  Chest_Accel_Z  \n",
       "0      -1.522797      10.403519  \n",
       "1      -2.252838      10.422897  \n",
       "2      -0.249100      12.276138  \n",
       "3      -0.237137       9.461456  \n",
       "4       0.250046       9.660065  "
      ]
     },
     "execution_count": 2,
     "metadata": {},
     "output_type": "execute_result"
    }
   ],
   "source": [
    "df = pd.DataFrame()\n",
    "for i in range(1):\n",
    "    df_tmp = pd.read_csv('data.csv', header=0)\n",
    "    df = pd.concat([df, df_tmp])\n",
    "\n",
    "# View top 5 rows of dataframe\n",
    "df.head()"
   ]
  },
  {
   "cell_type": "code",
   "execution_count": 3,
   "metadata": {},
   "outputs": [
    {
     "name": "stdout",
     "output_type": "stream",
     "text": [
      "Number of train spamples:  1309\n",
      "Number of test spamples:  328\n"
     ]
    }
   ],
   "source": [
    "split_point = int(len(df) * 0.8)\n",
    "train_data = df.iloc[:split_point, :]\n",
    "test_data = df.iloc[split_point:, :]\n",
    "\n",
    "print(\"Number of train spamples: \", len(train_data))\n",
    "print(\"Number of test spamples: \", len(test_data))"
   ]
  },
  {
   "cell_type": "code",
   "execution_count": 4,
   "metadata": {},
   "outputs": [],
   "source": [
    "\n",
    "def concat(data):\n",
    "    \n",
    "    # Select chest data\n",
    "    chest = data.iloc[:,6:9]\n",
    "    chest.columns=['Chest_Accel_X','Chest_Accel_Y','Chest_Accel_Z']\n",
    "    #Square root of sum of squares of accelerometer\n",
    "    chest[\"MA\"] = np.sqrt(np.square(chest['Chest_Accel_X']) + np.square(chest['Chest_Accel_Y']) + np.square(chest['Chest_Accel_Z']))\n",
    "    \n",
    "\n",
    "    #Extract Orientation\n",
    "    orientation = data.iloc[:, 2] \n",
    "    orientation = orientation.to_frame()\n",
    "    orientation.columns=['Orientation']\n",
    "    #orientation = pd.concat([orientation]*2, ignore_index=True)\n",
    "    \n",
    "    # Extract labels \n",
    "    labels = data.iloc[:, 3] \n",
    "    labels = labels.to_frame()\n",
    "    labels.columns=['Activity']\n",
    "    labels = pd.concat([labels]*2, ignore_index=True)\n",
    "    \n",
    "    \n",
    "    #Concatenate chest and orientation into single frame\n",
    "    frames = [ chest,orientation]\n",
    "    df = pd.concat(frames)\n",
    "   \n",
    "    return chest, labels  #change chest to orientation once working\n",
    "\n",
    "# Generate input data and labels\n",
    "train_X, train_y = concat(train_data)\n",
    "test_X, test_y = concat(test_data)"
   ]
  },
  {
   "cell_type": "code",
   "execution_count": 5,
   "metadata": {},
   "outputs": [
    {
     "data": {
      "text/html": [
       "<div>\n",
       "<style scoped>\n",
       "    .dataframe tbody tr th:only-of-type {\n",
       "        vertical-align: middle;\n",
       "    }\n",
       "\n",
       "    .dataframe tbody tr th {\n",
       "        vertical-align: top;\n",
       "    }\n",
       "\n",
       "    .dataframe thead th {\n",
       "        text-align: right;\n",
       "    }\n",
       "</style>\n",
       "<table border=\"1\" class=\"dataframe\">\n",
       "  <thead>\n",
       "    <tr style=\"text-align: right;\">\n",
       "      <th></th>\n",
       "      <th>Chest_Accel_X</th>\n",
       "      <th>Chest_Accel_Y</th>\n",
       "      <th>Chest_Accel_Z</th>\n",
       "      <th>MA</th>\n",
       "    </tr>\n",
       "  </thead>\n",
       "  <tbody>\n",
       "    <tr>\n",
       "      <th>0</th>\n",
       "      <td>2.256195</td>\n",
       "      <td>-1.522797</td>\n",
       "      <td>10.403519</td>\n",
       "      <td>10.753722</td>\n",
       "    </tr>\n",
       "    <tr>\n",
       "      <th>1</th>\n",
       "      <td>3.220734</td>\n",
       "      <td>-2.252838</td>\n",
       "      <td>10.422897</td>\n",
       "      <td>11.139353</td>\n",
       "    </tr>\n",
       "    <tr>\n",
       "      <th>2</th>\n",
       "      <td>-0.090683</td>\n",
       "      <td>-0.249100</td>\n",
       "      <td>12.276138</td>\n",
       "      <td>12.279000</td>\n",
       "    </tr>\n",
       "    <tr>\n",
       "      <th>3</th>\n",
       "      <td>-1.416305</td>\n",
       "      <td>-0.237137</td>\n",
       "      <td>9.461456</td>\n",
       "      <td>9.569812</td>\n",
       "    </tr>\n",
       "    <tr>\n",
       "      <th>4</th>\n",
       "      <td>-0.947800</td>\n",
       "      <td>0.250046</td>\n",
       "      <td>9.660065</td>\n",
       "      <td>9.709671</td>\n",
       "    </tr>\n",
       "  </tbody>\n",
       "</table>\n",
       "</div>"
      ],
      "text/plain": [
       "   Chest_Accel_X  Chest_Accel_Y  Chest_Accel_Z         MA\n",
       "0       2.256195      -1.522797      10.403519  10.753722\n",
       "1       3.220734      -2.252838      10.422897  11.139353\n",
       "2      -0.090683      -0.249100      12.276138  12.279000\n",
       "3      -1.416305      -0.237137       9.461456   9.569812\n",
       "4      -0.947800       0.250046       9.660065   9.709671"
      ]
     },
     "execution_count": 5,
     "metadata": {},
     "output_type": "execute_result"
    }
   ],
   "source": [
    "train_X.head()"
   ]
  },
  {
   "cell_type": "code",
   "execution_count": 6,
   "metadata": {},
   "outputs": [
    {
     "data": {
      "text/html": [
       "<div>\n",
       "<style scoped>\n",
       "    .dataframe tbody tr th:only-of-type {\n",
       "        vertical-align: middle;\n",
       "    }\n",
       "\n",
       "    .dataframe tbody tr th {\n",
       "        vertical-align: top;\n",
       "    }\n",
       "\n",
       "    .dataframe thead th {\n",
       "        text-align: right;\n",
       "    }\n",
       "</style>\n",
       "<table border=\"1\" class=\"dataframe\">\n",
       "  <thead>\n",
       "    <tr style=\"text-align: right;\">\n",
       "      <th></th>\n",
       "      <th>Activity</th>\n",
       "    </tr>\n",
       "  </thead>\n",
       "  <tbody>\n",
       "    <tr>\n",
       "      <th>0</th>\n",
       "      <td>Sitting</td>\n",
       "    </tr>\n",
       "    <tr>\n",
       "      <th>1</th>\n",
       "      <td>Sitting</td>\n",
       "    </tr>\n",
       "    <tr>\n",
       "      <th>2</th>\n",
       "      <td>Sitting</td>\n",
       "    </tr>\n",
       "    <tr>\n",
       "      <th>3</th>\n",
       "      <td>Sitting</td>\n",
       "    </tr>\n",
       "    <tr>\n",
       "      <th>4</th>\n",
       "      <td>Sitting</td>\n",
       "    </tr>\n",
       "  </tbody>\n",
       "</table>\n",
       "</div>"
      ],
      "text/plain": [
       "  Activity\n",
       "0  Sitting\n",
       "1  Sitting\n",
       "2  Sitting\n",
       "3  Sitting\n",
       "4  Sitting"
      ]
     },
     "execution_count": 6,
     "metadata": {},
     "output_type": "execute_result"
    }
   ],
   "source": [
    "train_y.head()"
   ]
  },
  {
   "cell_type": "code",
   "execution_count": 7,
   "metadata": {},
   "outputs": [],
   "source": [
    "N_TIME_STEPS = 50 #sliding window length\n",
    "STEP = 25 #Sliding window step size\n",
    "N_FEATURES = 4 \n",
    "\n",
    "def generate_sequence(x, y, n_time_steps, step):\n",
    "    \n",
    "    segments = []\n",
    "    labels = []\n",
    "    last = df['UserID'].values[25]\n",
    "    \n",
    "    \n",
    "    for i in range(0, len(x) - n_time_steps, step):\n",
    "        ax = x['Chest_Accel_X'].values[i: i + n_time_steps]\n",
    "        ay = x['Chest_Accel_Y'].values[i: i + n_time_steps]\n",
    "        az = x['Chest_Accel_Z'].values[i: i + n_time_steps]\n",
    "        #orientation = x['Orientation'].values[i: i + n_time_steps]\n",
    "        MA = x['MA'].values[i: i + n_time_steps]\n",
    "\n",
    "    \n",
    "       \n",
    "        label = stats.mode(y['Activity'][i: i + n_time_steps])[0][0]\n",
    "        segments.append([ ax, ay, az, MA])\n",
    "        labels.append(label)\n",
    "        \n",
    "    return segments, labels\n",
    "\n",
    "train_X, train_y = generate_sequence(train_X, train_y, N_TIME_STEPS, STEP)\n",
    "test_X, test_y = generate_sequence(test_X, test_y, N_TIME_STEPS, STEP)"
   ]
  },
  {
   "cell_type": "code",
   "execution_count": 8,
   "metadata": {},
   "outputs": [],
   "source": [
    "# reshape input segments and one-hot encode labels\n",
    "def reshape_segments(x, y, n_time_steps, n_features):\n",
    "    \n",
    "    x_reshaped = np.asarray(x, dtype= np.float32).reshape(-1, n_time_steps, n_features)\n",
    "    y_reshaped = np.asarray(pd.get_dummies(y), dtype = np.float32)\n",
    "    return x_reshaped, y_reshaped\n",
    "\n",
    "X_train, y_train = reshape_segments(train_X, train_y, N_TIME_STEPS, N_FEATURES)\n",
    "X_test, y_test = reshape_segments(test_X, test_y, N_TIME_STEPS, N_FEATURES)"
   ]
  },
  {
   "cell_type": "code",
   "execution_count": 9,
   "metadata": {},
   "outputs": [
    {
     "name": "stdout",
     "output_type": "stream",
     "text": [
      "WARNING:tensorflow:From C:\\Users\\vitalibara\\anaconda3\\envs\\tensorflow\\lib\\site-packages\\tensorflow_core\\python\\ops\\resource_variable_ops.py:1630: calling BaseResourceVariable.__init__ (from tensorflow.python.ops.resource_variable_ops) with constraint is deprecated and will be removed in a future version.\n",
      "Instructions for updating:\n",
      "If using Keras pass *_constraint arguments to layers.\n"
     ]
    },
    {
     "name": "stderr",
     "output_type": "stream",
     "text": [
      "Using TensorFlow backend.\n"
     ]
    }
   ],
   "source": [
    "\n",
    "from keras.regularizers import l2\n",
    "from keras.models import Sequential\n",
    "from keras.layers import Dense\n",
    "from keras.layers import LSTM\n",
    "from keras.layers import Flatten\n",
    "from keras import optimizers\n",
    "\n",
    "N_CLASSES = 3\n",
    "N_HIDDEN_UNITS = 32\n",
    "L2 = 0.000001\n",
    "\n",
    "model = Sequential([\n",
    "    LSTM(N_HIDDEN_UNITS, return_sequences=True, input_shape=(N_TIME_STEPS, N_FEATURES), \n",
    "         kernel_initializer='orthogonal', kernel_regularizer=l2(L2), recurrent_regularizer=l2(L2),\n",
    "         bias_regularizer=l2(L2), name=\"LSTM_1\"),\n",
    "    Flatten(name='Flatten'),\n",
    "    Dense(N_HIDDEN_UNITS, activation='relu', kernel_regularizer=l2(L2), bias_regularizer=l2(L2), name=\"Dense_1\"),\n",
    "    Dense(N_CLASSES, activation='softmax', kernel_regularizer=l2(L2), bias_regularizer=l2(L2), name=\"Dense_2\")\n",
    "])"
   ]
  },
  {
   "cell_type": "code",
   "execution_count": 10,
   "metadata": {},
   "outputs": [
    {
     "name": "stdout",
     "output_type": "stream",
     "text": [
      "Model: \"sequential_1\"\n",
      "_________________________________________________________________\n",
      "Layer (type)                 Output Shape              Param #   \n",
      "=================================================================\n",
      "LSTM_1 (LSTM)                (None, 50, 32)            4736      \n",
      "_________________________________________________________________\n",
      "Flatten (Flatten)            (None, 1600)              0         \n",
      "_________________________________________________________________\n",
      "Dense_1 (Dense)              (None, 32)                51232     \n",
      "_________________________________________________________________\n",
      "Dense_2 (Dense)              (None, 3)                 99        \n",
      "=================================================================\n",
      "Total params: 56,067\n",
      "Trainable params: 56,067\n",
      "Non-trainable params: 0\n",
      "_________________________________________________________________\n"
     ]
    }
   ],
   "source": [
    "model.summary()"
   ]
  },
  {
   "cell_type": "code",
   "execution_count": 11,
   "metadata": {},
   "outputs": [],
   "source": [
    "\n",
    "opt = optimizers.RMSprop(lr=0.0001)\n",
    "\n",
    "model.compile(optimizer=opt,\n",
    "              loss='categorical_crossentropy',\n",
    "              metrics=['accuracy'])"
   ]
  },
  {
   "cell_type": "code",
   "execution_count": 12,
   "metadata": {},
   "outputs": [
    {
     "name": "stdout",
     "output_type": "stream",
     "text": [
      "WARNING:tensorflow:From C:\\Users\\vitalibara\\anaconda3\\envs\\tensorflow\\lib\\site-packages\\keras\\backend\\tensorflow_backend.py:422: The name tf.global_variables is deprecated. Please use tf.compat.v1.global_variables instead.\n",
      "\n",
      "Train on 51 samples, validate on 12 samples\n",
      "Epoch 1/30\n",
      "51/51 [==============================] - 0s 10ms/step - loss: 1.1607 - accuracy: 0.2745 - val_loss: 1.0820 - val_accuracy: 0.1667\n",
      "Epoch 2/30\n",
      "51/51 [==============================] - 0s 775us/step - loss: 1.1105 - accuracy: 0.3137 - val_loss: 1.0320 - val_accuracy: 0.4167\n",
      "Epoch 3/30\n",
      "51/51 [==============================] - 0s 710us/step - loss: 1.0826 - accuracy: 0.3333 - val_loss: 0.9904 - val_accuracy: 0.5000\n",
      "Epoch 4/30\n",
      "51/51 [==============================] - 0s 652us/step - loss: 1.0644 - accuracy: 0.4902 - val_loss: 0.9682 - val_accuracy: 0.7500\n",
      "Epoch 5/30\n",
      "51/51 [==============================] - 0s 747us/step - loss: 1.0528 - accuracy: 0.5490 - val_loss: 0.9478 - val_accuracy: 0.9167\n",
      "Epoch 6/30\n",
      "51/51 [==============================] - 0s 689us/step - loss: 1.0446 - accuracy: 0.5686 - val_loss: 0.9316 - val_accuracy: 0.8333\n",
      "Epoch 7/30\n",
      "51/51 [==============================] - 0s 709us/step - loss: 1.0382 - accuracy: 0.5882 - val_loss: 0.9185 - val_accuracy: 0.8333\n",
      "Epoch 8/30\n",
      "51/51 [==============================] - 0s 708us/step - loss: 1.0328 - accuracy: 0.6078 - val_loss: 0.9068 - val_accuracy: 0.8333\n",
      "Epoch 9/30\n",
      "51/51 [==============================] - 0s 766us/step - loss: 1.0282 - accuracy: 0.5882 - val_loss: 0.8975 - val_accuracy: 0.8333\n",
      "Epoch 10/30\n",
      "51/51 [==============================] - 0s 707us/step - loss: 1.0239 - accuracy: 0.5882 - val_loss: 0.8880 - val_accuracy: 0.8333\n",
      "Epoch 11/30\n",
      "51/51 [==============================] - 0s 689us/step - loss: 1.0199 - accuracy: 0.5882 - val_loss: 0.8811 - val_accuracy: 0.8333\n",
      "Epoch 12/30\n",
      "51/51 [==============================] - 0s 670us/step - loss: 1.0162 - accuracy: 0.5686 - val_loss: 0.8720 - val_accuracy: 0.8333\n",
      "Epoch 13/30\n",
      "51/51 [==============================] - 0s 651us/step - loss: 1.0125 - accuracy: 0.5686 - val_loss: 0.8642 - val_accuracy: 0.8333\n",
      "Epoch 14/30\n",
      "51/51 [==============================] - 0s 651us/step - loss: 1.0086 - accuracy: 0.6078 - val_loss: 0.8601 - val_accuracy: 0.8333\n",
      "Epoch 15/30\n",
      "51/51 [==============================] - 0s 766us/step - loss: 1.0052 - accuracy: 0.5686 - val_loss: 0.8514 - val_accuracy: 0.8333\n",
      "Epoch 16/30\n",
      "51/51 [==============================] - 0s 765us/step - loss: 1.0021 - accuracy: 0.5882 - val_loss: 0.8508 - val_accuracy: 0.8333\n",
      "Epoch 17/30\n",
      "51/51 [==============================] - 0s 709us/step - loss: 0.9990 - accuracy: 0.5490 - val_loss: 0.8357 - val_accuracy: 0.8333\n",
      "Epoch 18/30\n",
      "51/51 [==============================] - 0s 651us/step - loss: 0.9962 - accuracy: 0.6078 - val_loss: 0.8462 - val_accuracy: 0.7500\n",
      "Epoch 19/30\n",
      "51/51 [==============================] - 0s 747us/step - loss: 0.9936 - accuracy: 0.5686 - val_loss: 0.8259 - val_accuracy: 0.8333\n",
      "Epoch 20/30\n",
      "51/51 [==============================] - 0s 823us/step - loss: 0.9906 - accuracy: 0.6078 - val_loss: 0.8349 - val_accuracy: 0.8333\n",
      "Epoch 21/30\n",
      "51/51 [==============================] - 0s 861us/step - loss: 0.9875 - accuracy: 0.5686 - val_loss: 0.8201 - val_accuracy: 0.8333\n",
      "Epoch 22/30\n",
      "51/51 [==============================] - 0s 747us/step - loss: 0.9847 - accuracy: 0.6078 - val_loss: 0.8247 - val_accuracy: 0.8333\n",
      "Epoch 23/30\n",
      "51/51 [==============================] - 0s 785us/step - loss: 0.9820 - accuracy: 0.5686 - val_loss: 0.8134 - val_accuracy: 0.8333\n",
      "Epoch 24/30\n",
      "51/51 [==============================] - 0s 785us/step - loss: 0.9791 - accuracy: 0.6078 - val_loss: 0.8152 - val_accuracy: 0.8333\n",
      "Epoch 25/30\n",
      "51/51 [==============================] - 0s 709us/step - loss: 0.9763 - accuracy: 0.5686 - val_loss: 0.8075 - val_accuracy: 0.8333\n",
      "Epoch 26/30\n",
      "51/51 [==============================] - 0s 823us/step - loss: 0.9738 - accuracy: 0.6078 - val_loss: 0.8082 - val_accuracy: 0.8333\n",
      "Epoch 27/30\n",
      "51/51 [==============================] - 0s 651us/step - loss: 0.9711 - accuracy: 0.5686 - val_loss: 0.7988 - val_accuracy: 0.7500\n",
      "Epoch 28/30\n",
      "51/51 [==============================] - 0s 785us/step - loss: 0.9687 - accuracy: 0.6078 - val_loss: 0.8040 - val_accuracy: 0.8333\n",
      "Epoch 29/30\n",
      "51/51 [==============================] - 0s 747us/step - loss: 0.9660 - accuracy: 0.5686 - val_loss: 0.7908 - val_accuracy: 0.7500\n",
      "Epoch 30/30\n",
      "51/51 [==============================] - 0s 804us/step - loss: 0.9637 - accuracy: 0.6078 - val_loss: 0.7988 - val_accuracy: 0.8333\n"
     ]
    },
    {
     "data": {
      "text/plain": [
       "<keras.callbacks.callbacks.History at 0x1d62b580508>"
      ]
     },
     "execution_count": 12,
     "metadata": {},
     "output_type": "execute_result"
    }
   ],
   "source": [
    "\n",
    "BATCH_SIZE = 1024\n",
    "N_EPOCHS = 30\n",
    "\n",
    "model.fit(X_train, y_train,\n",
    "          batch_size=BATCH_SIZE, epochs=N_EPOCHS,\n",
    "          validation_data=(X_test, y_test))"
   ]
  },
  {
   "cell_type": "code",
   "execution_count": 13,
   "metadata": {},
   "outputs": [
    {
     "data": {
      "image/png": "[encoded data removed]",
      "text/plain": [
       "<Figure size 1152x1008 with 2 Axes>"
      ]
     },
     "metadata": {
      "needs_background": "light"
     },
     "output_type": "display_data"
    }
   ],
   "source": [
    "y_pred_ohe = model.predict(X_test)\n",
    "y_pred_labels = np.argmax(y_pred_ohe, axis=1)\n",
    "y_true_labels = np.argmax(y_test, axis=1)\n",
    "confusion_matrix = metrics.confusion_matrix(y_true=y_true_labels, y_pred=y_pred_labels)\n",
    "\n",
    "LABELS = ['Standing' ,' Sitting', 'Walking']\n",
    "\n",
    "plt.figure(figsize=(16, 14))\n",
    "sns.set(style='whitegrid', palette='muted', font_scale=1.5)\n",
    "sns.heatmap(confusion_matrix, xticklabels=LABELS, yticklabels=LABELS, annot=True, fmt=\"d\");\n",
    "plt.title(\"Confusion matrix\")\n",
    "plt.ylabel('True label')\n",
    "plt.xlabel('Predicted label')\n",
    "plt.show();"
   ]
  },
  {
   "cell_type": "code",
   "execution_count": 14,
   "metadata": {},
   "outputs": [
    {
     "name": "stdout",
     "output_type": "stream",
     "text": [
      "WARNING:tensorflow:From C:\\Users\\vitalibara\\anaconda3\\envs\\tensorflow\\lib\\site-packages\\tensorflow_core\\python\\tools\\freeze_graph.py:127: checkpoint_exists (from tensorflow.python.training.checkpoint_management) is deprecated and will be removed in a future version.\n",
      "Instructions for updating:\n",
      "Use standard file APIs to check for files with this prefix.\n"
     ]
    },
    {
     "ename": "IndexError",
     "evalue": "list index out of range",
     "output_type": "error",
     "traceback": [
      "\u001b[1;31m---------------------------------------------------------------------------\u001b[0m",
      "\u001b[1;31mIndexError\u001b[0m                                Traceback (most recent call last)",
      "\u001b[1;32m<ipython-input-14-9115cc314668>\u001b[0m in \u001b[0;36m<module>\u001b[1;34m\u001b[0m\n\u001b[0;32m     15\u001b[0m     \u001b[1;32mFalse\u001b[0m\u001b[1;33m,\u001b[0m \u001b[1;34m'models/'\u001b[0m \u001b[1;33m+\u001b[0m \u001b[0mMODEL_NAME\u001b[0m \u001b[1;33m+\u001b[0m \u001b[1;34m'.chkp'\u001b[0m\u001b[1;33m,\u001b[0m \u001b[0moutput_node_name\u001b[0m\u001b[1;33m,\u001b[0m\u001b[0;31m \u001b[0m\u001b[0;31m\\\u001b[0m\u001b[1;33m\u001b[0m\u001b[1;33m\u001b[0m\u001b[0m\n\u001b[0;32m     16\u001b[0m     \u001b[1;34m\"save/restore_all\"\u001b[0m\u001b[1;33m,\u001b[0m \u001b[1;34m\"save/Const:0\"\u001b[0m\u001b[1;33m,\u001b[0m\u001b[0;31m \u001b[0m\u001b[0;31m\\\u001b[0m\u001b[1;33m\u001b[0m\u001b[1;33m\u001b[0m\u001b[0m\n\u001b[1;32m---> 17\u001b[1;33m     'models/frozen_' + MODEL_NAME + '.pb', True, \"\")\n\u001b[0m",
      "\u001b[1;32m~\\anaconda3\\envs\\tensorflow\\lib\\site-packages\\tensorflow_core\\python\\tools\\freeze_graph.py\u001b[0m in \u001b[0;36mfreeze_graph\u001b[1;34m(input_graph, input_saver, input_binary, input_checkpoint, output_node_names, restore_op_name, filename_tensor_name, output_graph, clear_devices, initializer_nodes, variable_names_whitelist, variable_names_blacklist, input_meta_graph, input_saved_model_dir, saved_model_tags, checkpoint_version)\u001b[0m\n\u001b[0;32m    359\u001b[0m       \u001b[0minput_saved_model_dir\u001b[0m\u001b[1;33m,\u001b[0m\u001b[1;33m\u001b[0m\u001b[1;33m\u001b[0m\u001b[0m\n\u001b[0;32m    360\u001b[0m       \u001b[0msaved_model_tags\u001b[0m\u001b[1;33m.\u001b[0m\u001b[0mreplace\u001b[0m\u001b[1;33m(\u001b[0m\u001b[1;34m\" \"\u001b[0m\u001b[1;33m,\u001b[0m \u001b[1;34m\"\"\u001b[0m\u001b[1;33m)\u001b[0m\u001b[1;33m.\u001b[0m\u001b[0msplit\u001b[0m\u001b[1;33m(\u001b[0m\u001b[1;34m\",\"\u001b[0m\u001b[1;33m)\u001b[0m\u001b[1;33m,\u001b[0m\u001b[1;33m\u001b[0m\u001b[1;33m\u001b[0m\u001b[0m\n\u001b[1;32m--> 361\u001b[1;33m       checkpoint_version=checkpoint_version)\n\u001b[0m\u001b[0;32m    362\u001b[0m \u001b[1;33m\u001b[0m\u001b[0m\n\u001b[0;32m    363\u001b[0m \u001b[1;33m\u001b[0m\u001b[0m\n",
      "\u001b[1;32m~\\anaconda3\\envs\\tensorflow\\lib\\site-packages\\tensorflow_core\\python\\tools\\freeze_graph.py\u001b[0m in \u001b[0;36mfreeze_graph_with_def_protos\u001b[1;34m(***failed resolving arguments***)\u001b[0m\n\u001b[0;32m    188\u001b[0m       \u001b[1;32mtry\u001b[0m\u001b[1;33m:\u001b[0m\u001b[1;33m\u001b[0m\u001b[1;33m\u001b[0m\u001b[0m\n\u001b[0;32m    189\u001b[0m         saver = saver_lib.Saver(\n\u001b[1;32m--> 190\u001b[1;33m             var_list=var_list, write_version=checkpoint_version)\n\u001b[0m\u001b[0;32m    191\u001b[0m       \u001b[1;32mexcept\u001b[0m \u001b[0mTypeError\u001b[0m \u001b[1;32mas\u001b[0m \u001b[0me\u001b[0m\u001b[1;33m:\u001b[0m\u001b[1;33m\u001b[0m\u001b[1;33m\u001b[0m\u001b[0m\n\u001b[0;32m    192\u001b[0m         \u001b[1;31m# `var_list` is required to be a map of variable names to Variable\u001b[0m\u001b[1;33m\u001b[0m\u001b[1;33m\u001b[0m\u001b[1;33m\u001b[0m\u001b[0m\n",
      "\u001b[1;32m~\\anaconda3\\envs\\tensorflow\\lib\\site-packages\\tensorflow_core\\python\\training\\saver.py\u001b[0m in \u001b[0;36m__init__\u001b[1;34m(self, var_list, reshape, sharded, max_to_keep, keep_checkpoint_every_n_hours, name, restore_sequentially, saver_def, builder, defer_build, allow_empty, write_version, pad_step_number, save_relative_paths, filename)\u001b[0m\n\u001b[0;32m    826\u001b[0m           time.time() + self._keep_checkpoint_every_n_hours * 3600)\n\u001b[0;32m    827\u001b[0m     \u001b[1;32melif\u001b[0m \u001b[1;32mnot\u001b[0m \u001b[0mdefer_build\u001b[0m\u001b[1;33m:\u001b[0m\u001b[1;33m\u001b[0m\u001b[1;33m\u001b[0m\u001b[0m\n\u001b[1;32m--> 828\u001b[1;33m       \u001b[0mself\u001b[0m\u001b[1;33m.\u001b[0m\u001b[0mbuild\u001b[0m\u001b[1;33m(\u001b[0m\u001b[1;33m)\u001b[0m\u001b[1;33m\u001b[0m\u001b[1;33m\u001b[0m\u001b[0m\n\u001b[0m\u001b[0;32m    829\u001b[0m     \u001b[1;32mif\u001b[0m \u001b[0mself\u001b[0m\u001b[1;33m.\u001b[0m\u001b[0msaver_def\u001b[0m\u001b[1;33m:\u001b[0m\u001b[1;33m\u001b[0m\u001b[1;33m\u001b[0m\u001b[0m\n\u001b[0;32m    830\u001b[0m       \u001b[0mself\u001b[0m\u001b[1;33m.\u001b[0m\u001b[0m_check_saver_def\u001b[0m\u001b[1;33m(\u001b[0m\u001b[1;33m)\u001b[0m\u001b[1;33m\u001b[0m\u001b[1;33m\u001b[0m\u001b[0m\n",
      "\u001b[1;32m~\\anaconda3\\envs\\tensorflow\\lib\\site-packages\\tensorflow_core\\python\\training\\saver.py\u001b[0m in \u001b[0;36mbuild\u001b[1;34m(self)\u001b[0m\n\u001b[0;32m    838\u001b[0m     \u001b[1;32mif\u001b[0m \u001b[0mcontext\u001b[0m\u001b[1;33m.\u001b[0m\u001b[0mexecuting_eagerly\u001b[0m\u001b[1;33m(\u001b[0m\u001b[1;33m)\u001b[0m\u001b[1;33m:\u001b[0m\u001b[1;33m\u001b[0m\u001b[1;33m\u001b[0m\u001b[0m\n\u001b[0;32m    839\u001b[0m       \u001b[1;32mraise\u001b[0m \u001b[0mRuntimeError\u001b[0m\u001b[1;33m(\u001b[0m\u001b[1;34m\"Use save/restore instead of build in eager mode.\"\u001b[0m\u001b[1;33m)\u001b[0m\u001b[1;33m\u001b[0m\u001b[1;33m\u001b[0m\u001b[0m\n\u001b[1;32m--> 840\u001b[1;33m     \u001b[0mself\u001b[0m\u001b[1;33m.\u001b[0m\u001b[0m_build\u001b[0m\u001b[1;33m(\u001b[0m\u001b[0mself\u001b[0m\u001b[1;33m.\u001b[0m\u001b[0m_filename\u001b[0m\u001b[1;33m,\u001b[0m \u001b[0mbuild_save\u001b[0m\u001b[1;33m=\u001b[0m\u001b[1;32mTrue\u001b[0m\u001b[1;33m,\u001b[0m \u001b[0mbuild_restore\u001b[0m\u001b[1;33m=\u001b[0m\u001b[1;32mTrue\u001b[0m\u001b[1;33m)\u001b[0m\u001b[1;33m\u001b[0m\u001b[1;33m\u001b[0m\u001b[0m\n\u001b[0m\u001b[0;32m    841\u001b[0m \u001b[1;33m\u001b[0m\u001b[0m\n\u001b[0;32m    842\u001b[0m   \u001b[1;32mdef\u001b[0m \u001b[0m_build_eager\u001b[0m\u001b[1;33m(\u001b[0m\u001b[0mself\u001b[0m\u001b[1;33m,\u001b[0m \u001b[0mcheckpoint_path\u001b[0m\u001b[1;33m,\u001b[0m \u001b[0mbuild_save\u001b[0m\u001b[1;33m,\u001b[0m \u001b[0mbuild_restore\u001b[0m\u001b[1;33m)\u001b[0m\u001b[1;33m:\u001b[0m\u001b[1;33m\u001b[0m\u001b[1;33m\u001b[0m\u001b[0m\n",
      "\u001b[1;32m~\\anaconda3\\envs\\tensorflow\\lib\\site-packages\\tensorflow_core\\python\\training\\saver.py\u001b[0m in \u001b[0;36m_build\u001b[1;34m(self, checkpoint_path, build_save, build_restore)\u001b[0m\n\u001b[0;32m    876\u001b[0m           \u001b[0mfilename\u001b[0m\u001b[1;33m=\u001b[0m\u001b[0mcheckpoint_path\u001b[0m\u001b[1;33m,\u001b[0m\u001b[1;33m\u001b[0m\u001b[1;33m\u001b[0m\u001b[0m\n\u001b[0;32m    877\u001b[0m           \u001b[0mbuild_save\u001b[0m\u001b[1;33m=\u001b[0m\u001b[0mbuild_save\u001b[0m\u001b[1;33m,\u001b[0m\u001b[1;33m\u001b[0m\u001b[1;33m\u001b[0m\u001b[0m\n\u001b[1;32m--> 878\u001b[1;33m           build_restore=build_restore)\n\u001b[0m\u001b[0;32m    879\u001b[0m     \u001b[1;32melif\u001b[0m \u001b[0mself\u001b[0m\u001b[1;33m.\u001b[0m\u001b[0msaver_def\u001b[0m \u001b[1;32mand\u001b[0m \u001b[0mself\u001b[0m\u001b[1;33m.\u001b[0m\u001b[0m_name\u001b[0m\u001b[1;33m:\u001b[0m\u001b[1;33m\u001b[0m\u001b[1;33m\u001b[0m\u001b[0m\n\u001b[0;32m    880\u001b[0m       \u001b[1;31m# Since self._name is used as a name_scope by builder(), we are\u001b[0m\u001b[1;33m\u001b[0m\u001b[1;33m\u001b[0m\u001b[1;33m\u001b[0m\u001b[0m\n",
      "\u001b[1;32m~\\anaconda3\\envs\\tensorflow\\lib\\site-packages\\tensorflow_core\\python\\training\\saver.py\u001b[0m in \u001b[0;36m_build_internal\u001b[1;34m(self, names_to_saveables, reshape, sharded, max_to_keep, keep_checkpoint_every_n_hours, name, restore_sequentially, filename, build_save, build_restore)\u001b[0m\n\u001b[0;32m    480\u001b[0m \u001b[1;33m\u001b[0m\u001b[0m\n\u001b[0;32m    481\u001b[0m     saveables = saveable_object_util.validate_and_slice_inputs(\n\u001b[1;32m--> 482\u001b[1;33m         names_to_saveables)\n\u001b[0m\u001b[0;32m    483\u001b[0m     \u001b[1;32mif\u001b[0m \u001b[0mmax_to_keep\u001b[0m \u001b[1;32mis\u001b[0m \u001b[1;32mNone\u001b[0m\u001b[1;33m:\u001b[0m\u001b[1;33m\u001b[0m\u001b[1;33m\u001b[0m\u001b[0m\n\u001b[0;32m    484\u001b[0m       \u001b[0mmax_to_keep\u001b[0m \u001b[1;33m=\u001b[0m \u001b[1;36m0\u001b[0m\u001b[1;33m\u001b[0m\u001b[1;33m\u001b[0m\u001b[0m\n",
      "\u001b[1;32m~\\anaconda3\\envs\\tensorflow\\lib\\site-packages\\tensorflow_core\\python\\training\\saving\\saveable_object_util.py\u001b[0m in \u001b[0;36mvalidate_and_slice_inputs\u001b[1;34m(names_to_saveables)\u001b[0m\n\u001b[0;32m    341\u001b[0m                          \u001b[1;31m# Avoid comparing ops, sort only by name.\u001b[0m\u001b[1;33m\u001b[0m\u001b[1;33m\u001b[0m\u001b[1;33m\u001b[0m\u001b[0m\n\u001b[0;32m    342\u001b[0m                          key=lambda x: x[0]):\n\u001b[1;32m--> 343\u001b[1;33m     \u001b[1;32mfor\u001b[0m \u001b[0mconverted_saveable_object\u001b[0m \u001b[1;32min\u001b[0m \u001b[0msaveable_objects_for_op\u001b[0m\u001b[1;33m(\u001b[0m\u001b[0mop\u001b[0m\u001b[1;33m,\u001b[0m \u001b[0mname\u001b[0m\u001b[1;33m)\u001b[0m\u001b[1;33m:\u001b[0m\u001b[1;33m\u001b[0m\u001b[1;33m\u001b[0m\u001b[0m\n\u001b[0m\u001b[0;32m    344\u001b[0m       \u001b[0m_add_saveable\u001b[0m\u001b[1;33m(\u001b[0m\u001b[0msaveables\u001b[0m\u001b[1;33m,\u001b[0m \u001b[0mseen_ops\u001b[0m\u001b[1;33m,\u001b[0m \u001b[0mconverted_saveable_object\u001b[0m\u001b[1;33m)\u001b[0m\u001b[1;33m\u001b[0m\u001b[1;33m\u001b[0m\u001b[0m\n\u001b[0;32m    345\u001b[0m   \u001b[1;32mreturn\u001b[0m \u001b[0msaveables\u001b[0m\u001b[1;33m\u001b[0m\u001b[1;33m\u001b[0m\u001b[0m\n",
      "\u001b[1;32m~\\anaconda3\\envs\\tensorflow\\lib\\site-packages\\tensorflow_core\\python\\training\\saving\\saveable_object_util.py\u001b[0m in \u001b[0;36msaveable_objects_for_op\u001b[1;34m(op, name)\u001b[0m\n\u001b[0;32m    204\u001b[0m       \u001b[1;32melse\u001b[0m\u001b[1;33m:\u001b[0m\u001b[1;33m\u001b[0m\u001b[1;33m\u001b[0m\u001b[0m\n\u001b[0;32m    205\u001b[0m         yield ResourceVariableSaveable(\n\u001b[1;32m--> 206\u001b[1;33m             variable, \"\", name)\n\u001b[0m\u001b[0;32m    207\u001b[0m \u001b[1;33m\u001b[0m\u001b[0m\n\u001b[0;32m    208\u001b[0m \u001b[1;33m\u001b[0m\u001b[0m\n",
      "\u001b[1;32m~\\anaconda3\\envs\\tensorflow\\lib\\site-packages\\tensorflow_core\\python\\training\\saving\\saveable_object_util.py\u001b[0m in \u001b[0;36m__init__\u001b[1;34m(self, var, slice_spec, name)\u001b[0m\n\u001b[0;32m     81\u001b[0m     \u001b[0mself\u001b[0m\u001b[1;33m.\u001b[0m\u001b[0m_var_shape\u001b[0m \u001b[1;33m=\u001b[0m \u001b[0mvar\u001b[0m\u001b[1;33m.\u001b[0m\u001b[0mshape\u001b[0m\u001b[1;33m\u001b[0m\u001b[1;33m\u001b[0m\u001b[0m\n\u001b[0;32m     82\u001b[0m     \u001b[1;32mif\u001b[0m \u001b[0misinstance\u001b[0m\u001b[1;33m(\u001b[0m\u001b[0mvar\u001b[0m\u001b[1;33m,\u001b[0m \u001b[0mops\u001b[0m\u001b[1;33m.\u001b[0m\u001b[0mTensor\u001b[0m\u001b[1;33m)\u001b[0m\u001b[1;33m:\u001b[0m\u001b[1;33m\u001b[0m\u001b[1;33m\u001b[0m\u001b[0m\n\u001b[1;32m---> 83\u001b[1;33m       \u001b[0mself\u001b[0m\u001b[1;33m.\u001b[0m\u001b[0mhandle_op\u001b[0m \u001b[1;33m=\u001b[0m \u001b[0mvar\u001b[0m\u001b[1;33m.\u001b[0m\u001b[0mop\u001b[0m\u001b[1;33m.\u001b[0m\u001b[0minputs\u001b[0m\u001b[1;33m[\u001b[0m\u001b[1;36m0\u001b[0m\u001b[1;33m]\u001b[0m\u001b[1;33m\u001b[0m\u001b[1;33m\u001b[0m\u001b[0m\n\u001b[0m\u001b[0;32m     84\u001b[0m       \u001b[0mtensor\u001b[0m \u001b[1;33m=\u001b[0m \u001b[0mvar\u001b[0m\u001b[1;33m\u001b[0m\u001b[1;33m\u001b[0m\u001b[0m\n\u001b[0;32m     85\u001b[0m     \u001b[1;32melif\u001b[0m \u001b[0mresource_variable_ops\u001b[0m\u001b[1;33m.\u001b[0m\u001b[0mis_resource_variable\u001b[0m\u001b[1;33m(\u001b[0m\u001b[0mvar\u001b[0m\u001b[1;33m)\u001b[0m\u001b[1;33m:\u001b[0m\u001b[1;33m\u001b[0m\u001b[1;33m\u001b[0m\u001b[0m\n",
      "\u001b[1;32m~\\anaconda3\\envs\\tensorflow\\lib\\site-packages\\tensorflow_core\\python\\framework\\ops.py\u001b[0m in \u001b[0;36m__getitem__\u001b[1;34m(self, i)\u001b[0m\n\u001b[0;32m   2152\u001b[0m \u001b[1;33m\u001b[0m\u001b[0m\n\u001b[0;32m   2153\u001b[0m     \u001b[1;32mdef\u001b[0m \u001b[0m__getitem__\u001b[0m\u001b[1;33m(\u001b[0m\u001b[0mself\u001b[0m\u001b[1;33m,\u001b[0m \u001b[0mi\u001b[0m\u001b[1;33m)\u001b[0m\u001b[1;33m:\u001b[0m\u001b[1;33m\u001b[0m\u001b[1;33m\u001b[0m\u001b[0m\n\u001b[1;32m-> 2154\u001b[1;33m       \u001b[1;32mreturn\u001b[0m \u001b[0mself\u001b[0m\u001b[1;33m.\u001b[0m\u001b[0m_inputs\u001b[0m\u001b[1;33m[\u001b[0m\u001b[0mi\u001b[0m\u001b[1;33m]\u001b[0m\u001b[1;33m\u001b[0m\u001b[1;33m\u001b[0m\u001b[0m\n\u001b[0m\u001b[0;32m   2155\u001b[0m \u001b[1;33m\u001b[0m\u001b[0m\n\u001b[0;32m   2156\u001b[0m   \u001b[1;33m@\u001b[0m\u001b[0mproperty\u001b[0m\u001b[1;33m\u001b[0m\u001b[1;33m\u001b[0m\u001b[0m\n",
      "\u001b[1;31mIndexError\u001b[0m: list index out of range"
     ]
    }
   ],
   "source": [
    "\n",
    "from keras import backend as K\n",
    "from tensorflow.python.tools import freeze_graph\n",
    "from tensorflow.python.tools import optimize_for_inference_lib\n",
    "\n",
    "input_node_names= [\"LSTM_1_input\"]\n",
    "output_node_name = \"Dense_2/Softmax\"\n",
    "MODEL_NAME = \"HAR4\"\n",
    "\n",
    "tf.train.write_graph(K.get_session().graph_def, 'models', \\\n",
    "        MODEL_NAME + '_graph.pbtxt')\n",
    "saver = tf.train.Saver()\n",
    "saver.save(K.get_session(), 'models/' + MODEL_NAME + '.chkp')\n",
    "\n",
    "freeze_graph.freeze_graph('models/' + MODEL_NAME + '_graph.pbtxt', None, \\\n",
    "    False, 'models/' + MODEL_NAME + '.chkp', output_node_name, \\\n",
    "    \"save/restore_all\", \"save/Const:0\", \\\n",
    "    'models/frozen_' + MODEL_NAME + '.pb', True, \"\")"
   ]
  },
  {
   "cell_type": "code",
   "execution_count": null,
   "metadata": {},
   "outputs": [],
   "source": []
  },
  {
   "cell_type": "code",
   "execution_count": null,
   "metadata": {},
   "outputs": [],
   "source": []
  }
 ],
 "metadata": {
  "kernelspec": {
   "display_name": "Python 3",
   "language": "python",
   "name": "python3"
  },
  "language_info": {
   "codemirror_mode": {
    "name": "ipython",
    "version": 3
   },
   "file_extension": ".py",
   "mimetype": "text/x-python",
   "name": "python",
   "nbconvert_exporter": "python",
   "pygments_lexer": "ipython3",
   "version": "3.7.7"
  }
 },
 "nbformat": 4,
 "nbformat_minor": 4
}
